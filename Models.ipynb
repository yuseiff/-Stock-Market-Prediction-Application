{
 "cells": [
  {
   "cell_type": "markdown",
   "metadata": {},
   "source": [
    "# Stock Market Prediction"
   ]
  },
  {
   "cell_type": "code",
   "execution_count": 1,
   "metadata": {
    "ExecuteTime": {
     "end_time": "2023-12-25T19:57:49.481964Z",
     "start_time": "2023-12-25T19:57:49.466438600Z"
    }
   },
   "outputs": [],
   "source": [
    "import pandas as pd\n",
    "import seaborn as sns\n",
    "import matplotlib.pyplot as plt\n",
    "import numpy as np"
   ]
  },
  {
   "cell_type": "markdown",
   "metadata": {},
   "source": [
    "# Data Preprocessing"
   ]
  },
  {
   "cell_type": "code",
   "execution_count": 2,
   "metadata": {
    "ExecuteTime": {
     "end_time": "2023-12-25T19:57:53.109928200Z",
     "start_time": "2023-12-25T19:57:49.479963500Z"
    }
   },
   "outputs": [
    {
     "data": {
      "text/html": [
       "<div>\n",
       "<style scoped>\n",
       "    .dataframe tbody tr th:only-of-type {\n",
       "        vertical-align: middle;\n",
       "    }\n",
       "\n",
       "    .dataframe tbody tr th {\n",
       "        vertical-align: top;\n",
       "    }\n",
       "\n",
       "    .dataframe thead th {\n",
       "        text-align: right;\n",
       "    }\n",
       "</style>\n",
       "<table border=\"1\" class=\"dataframe\">\n",
       "  <thead>\n",
       "    <tr style=\"text-align: right;\">\n",
       "      <th></th>\n",
       "      <th>RowId</th>\n",
       "      <th>Date</th>\n",
       "      <th>SecuritiesCode</th>\n",
       "      <th>Open</th>\n",
       "      <th>High</th>\n",
       "      <th>Low</th>\n",
       "      <th>Close</th>\n",
       "      <th>Volume</th>\n",
       "      <th>AdjustmentFactor</th>\n",
       "      <th>ExpectedDividend</th>\n",
       "      <th>SupervisionFlag</th>\n",
       "      <th>Target</th>\n",
       "    </tr>\n",
       "  </thead>\n",
       "  <tbody>\n",
       "    <tr>\n",
       "      <th>0</th>\n",
       "      <td>20170104_1301</td>\n",
       "      <td>2017-01-04</td>\n",
       "      <td>1301</td>\n",
       "      <td>2734.0</td>\n",
       "      <td>2755.0</td>\n",
       "      <td>2730.0</td>\n",
       "      <td>2742.0</td>\n",
       "      <td>31400</td>\n",
       "      <td>1.0</td>\n",
       "      <td>NaN</td>\n",
       "      <td>False</td>\n",
       "      <td>0.000730</td>\n",
       "    </tr>\n",
       "    <tr>\n",
       "      <th>1</th>\n",
       "      <td>20170104_1332</td>\n",
       "      <td>2017-01-04</td>\n",
       "      <td>1332</td>\n",
       "      <td>568.0</td>\n",
       "      <td>576.0</td>\n",
       "      <td>563.0</td>\n",
       "      <td>571.0</td>\n",
       "      <td>2798500</td>\n",
       "      <td>1.0</td>\n",
       "      <td>NaN</td>\n",
       "      <td>False</td>\n",
       "      <td>0.012324</td>\n",
       "    </tr>\n",
       "    <tr>\n",
       "      <th>2</th>\n",
       "      <td>20170104_1333</td>\n",
       "      <td>2017-01-04</td>\n",
       "      <td>1333</td>\n",
       "      <td>3150.0</td>\n",
       "      <td>3210.0</td>\n",
       "      <td>3140.0</td>\n",
       "      <td>3210.0</td>\n",
       "      <td>270800</td>\n",
       "      <td>1.0</td>\n",
       "      <td>NaN</td>\n",
       "      <td>False</td>\n",
       "      <td>0.006154</td>\n",
       "    </tr>\n",
       "    <tr>\n",
       "      <th>3</th>\n",
       "      <td>20170104_1376</td>\n",
       "      <td>2017-01-04</td>\n",
       "      <td>1376</td>\n",
       "      <td>1510.0</td>\n",
       "      <td>1550.0</td>\n",
       "      <td>1510.0</td>\n",
       "      <td>1550.0</td>\n",
       "      <td>11300</td>\n",
       "      <td>1.0</td>\n",
       "      <td>NaN</td>\n",
       "      <td>False</td>\n",
       "      <td>0.011053</td>\n",
       "    </tr>\n",
       "    <tr>\n",
       "      <th>4</th>\n",
       "      <td>20170104_1377</td>\n",
       "      <td>2017-01-04</td>\n",
       "      <td>1377</td>\n",
       "      <td>3270.0</td>\n",
       "      <td>3350.0</td>\n",
       "      <td>3270.0</td>\n",
       "      <td>3330.0</td>\n",
       "      <td>150800</td>\n",
       "      <td>1.0</td>\n",
       "      <td>NaN</td>\n",
       "      <td>False</td>\n",
       "      <td>0.003026</td>\n",
       "    </tr>\n",
       "  </tbody>\n",
       "</table>\n",
       "</div>"
      ],
      "text/plain": [
       "           RowId        Date  SecuritiesCode    Open    High     Low   Close  \\\n",
       "0  20170104_1301  2017-01-04            1301  2734.0  2755.0  2730.0  2742.0   \n",
       "1  20170104_1332  2017-01-04            1332   568.0   576.0   563.0   571.0   \n",
       "2  20170104_1333  2017-01-04            1333  3150.0  3210.0  3140.0  3210.0   \n",
       "3  20170104_1376  2017-01-04            1376  1510.0  1550.0  1510.0  1550.0   \n",
       "4  20170104_1377  2017-01-04            1377  3270.0  3350.0  3270.0  3330.0   \n",
       "\n",
       "    Volume  AdjustmentFactor  ExpectedDividend  SupervisionFlag    Target  \n",
       "0    31400               1.0               NaN            False  0.000730  \n",
       "1  2798500               1.0               NaN            False  0.012324  \n",
       "2   270800               1.0               NaN            False  0.006154  \n",
       "3    11300               1.0               NaN            False  0.011053  \n",
       "4   150800               1.0               NaN            False  0.003026  "
      ]
     },
     "execution_count": 2,
     "metadata": {},
     "output_type": "execute_result"
    }
   ],
   "source": [
    "df = pd.read_csv('stock_prices.csv')\n",
    "df.head()"
   ]
  },
  {
   "cell_type": "code",
   "execution_count": 3,
   "metadata": {
    "ExecuteTime": {
     "end_time": "2023-12-25T19:57:53.270510600Z",
     "start_time": "2023-12-25T19:57:53.100168700Z"
    },
    "notebookRunGroups": {
     "groupValue": ""
    }
   },
   "outputs": [
    {
     "data": {
      "text/html": [
       "<div>\n",
       "<style scoped>\n",
       "    .dataframe tbody tr th:only-of-type {\n",
       "        vertical-align: middle;\n",
       "    }\n",
       "\n",
       "    .dataframe tbody tr th {\n",
       "        vertical-align: top;\n",
       "    }\n",
       "\n",
       "    .dataframe thead th {\n",
       "        text-align: right;\n",
       "    }\n",
       "</style>\n",
       "<table border=\"1\" class=\"dataframe\">\n",
       "  <thead>\n",
       "    <tr style=\"text-align: right;\">\n",
       "      <th></th>\n",
       "      <th>Open</th>\n",
       "      <th>High</th>\n",
       "      <th>Low</th>\n",
       "      <th>Close</th>\n",
       "    </tr>\n",
       "  </thead>\n",
       "  <tbody>\n",
       "    <tr>\n",
       "      <th>0</th>\n",
       "      <td>2734.0</td>\n",
       "      <td>2755.0</td>\n",
       "      <td>2730.0</td>\n",
       "      <td>2742.0</td>\n",
       "    </tr>\n",
       "    <tr>\n",
       "      <th>1</th>\n",
       "      <td>568.0</td>\n",
       "      <td>576.0</td>\n",
       "      <td>563.0</td>\n",
       "      <td>571.0</td>\n",
       "    </tr>\n",
       "    <tr>\n",
       "      <th>2</th>\n",
       "      <td>3150.0</td>\n",
       "      <td>3210.0</td>\n",
       "      <td>3140.0</td>\n",
       "      <td>3210.0</td>\n",
       "    </tr>\n",
       "    <tr>\n",
       "      <th>3</th>\n",
       "      <td>1510.0</td>\n",
       "      <td>1550.0</td>\n",
       "      <td>1510.0</td>\n",
       "      <td>1550.0</td>\n",
       "    </tr>\n",
       "    <tr>\n",
       "      <th>4</th>\n",
       "      <td>3270.0</td>\n",
       "      <td>3350.0</td>\n",
       "      <td>3270.0</td>\n",
       "      <td>3330.0</td>\n",
       "    </tr>\n",
       "  </tbody>\n",
       "</table>\n",
       "</div>"
      ],
      "text/plain": [
       "     Open    High     Low   Close\n",
       "0  2734.0  2755.0  2730.0  2742.0\n",
       "1   568.0   576.0   563.0   571.0\n",
       "2  3150.0  3210.0  3140.0  3210.0\n",
       "3  1510.0  1550.0  1510.0  1550.0\n",
       "4  3270.0  3350.0  3270.0  3330.0"
      ]
     },
     "execution_count": 3,
     "metadata": {},
     "output_type": "execute_result"
    }
   ],
   "source": [
    "columnns__to_drop = ['RowId','Date','SecuritiesCode','ExpectedDividend','SupervisionFlag','Volume','AdjustmentFactor','ExpectedDividend','Target']\n",
    "df = df.drop(columnns__to_drop,axis=1)\n",
    "df.head()"
   ]
  },
  {
   "cell_type": "code",
   "execution_count": 4,
   "metadata": {
    "ExecuteTime": {
     "end_time": "2023-12-25T19:57:54.752020700Z",
     "start_time": "2023-12-25T19:57:53.186979Z"
    }
   },
   "outputs": [
    {
     "data": {
      "text/html": [
       "<div>\n",
       "<style scoped>\n",
       "    .dataframe tbody tr th:only-of-type {\n",
       "        vertical-align: middle;\n",
       "    }\n",
       "\n",
       "    .dataframe tbody tr th {\n",
       "        vertical-align: top;\n",
       "    }\n",
       "\n",
       "    .dataframe thead th {\n",
       "        text-align: right;\n",
       "    }\n",
       "</style>\n",
       "<table border=\"1\" class=\"dataframe\">\n",
       "  <thead>\n",
       "    <tr style=\"text-align: right;\">\n",
       "      <th></th>\n",
       "      <th>Open</th>\n",
       "      <th>High</th>\n",
       "      <th>Low</th>\n",
       "      <th>Close</th>\n",
       "    </tr>\n",
       "  </thead>\n",
       "  <tbody>\n",
       "    <tr>\n",
       "      <th>count</th>\n",
       "      <td>2.324923e+06</td>\n",
       "      <td>2.324923e+06</td>\n",
       "      <td>2.324923e+06</td>\n",
       "      <td>2.324923e+06</td>\n",
       "    </tr>\n",
       "    <tr>\n",
       "      <th>mean</th>\n",
       "      <td>2.594511e+03</td>\n",
       "      <td>2.626540e+03</td>\n",
       "      <td>2.561227e+03</td>\n",
       "      <td>2.594023e+03</td>\n",
       "    </tr>\n",
       "    <tr>\n",
       "      <th>std</th>\n",
       "      <td>3.577192e+03</td>\n",
       "      <td>3.619363e+03</td>\n",
       "      <td>3.533494e+03</td>\n",
       "      <td>3.576538e+03</td>\n",
       "    </tr>\n",
       "    <tr>\n",
       "      <th>min</th>\n",
       "      <td>1.400000e+01</td>\n",
       "      <td>1.500000e+01</td>\n",
       "      <td>1.300000e+01</td>\n",
       "      <td>1.400000e+01</td>\n",
       "    </tr>\n",
       "    <tr>\n",
       "      <th>25%</th>\n",
       "      <td>1.022000e+03</td>\n",
       "      <td>1.035000e+03</td>\n",
       "      <td>1.009000e+03</td>\n",
       "      <td>1.022000e+03</td>\n",
       "    </tr>\n",
       "    <tr>\n",
       "      <th>50%</th>\n",
       "      <td>1.812000e+03</td>\n",
       "      <td>1.834000e+03</td>\n",
       "      <td>1.790000e+03</td>\n",
       "      <td>1.811000e+03</td>\n",
       "    </tr>\n",
       "    <tr>\n",
       "      <th>75%</th>\n",
       "      <td>3.030000e+03</td>\n",
       "      <td>3.070000e+03</td>\n",
       "      <td>2.995000e+03</td>\n",
       "      <td>3.030000e+03</td>\n",
       "    </tr>\n",
       "    <tr>\n",
       "      <th>max</th>\n",
       "      <td>1.099500e+05</td>\n",
       "      <td>1.105000e+05</td>\n",
       "      <td>1.072000e+05</td>\n",
       "      <td>1.095500e+05</td>\n",
       "    </tr>\n",
       "  </tbody>\n",
       "</table>\n",
       "</div>"
      ],
      "text/plain": [
       "               Open          High           Low         Close\n",
       "count  2.324923e+06  2.324923e+06  2.324923e+06  2.324923e+06\n",
       "mean   2.594511e+03  2.626540e+03  2.561227e+03  2.594023e+03\n",
       "std    3.577192e+03  3.619363e+03  3.533494e+03  3.576538e+03\n",
       "min    1.400000e+01  1.500000e+01  1.300000e+01  1.400000e+01\n",
       "25%    1.022000e+03  1.035000e+03  1.009000e+03  1.022000e+03\n",
       "50%    1.812000e+03  1.834000e+03  1.790000e+03  1.811000e+03\n",
       "75%    3.030000e+03  3.070000e+03  2.995000e+03  3.030000e+03\n",
       "max    1.099500e+05  1.105000e+05  1.072000e+05  1.095500e+05"
      ]
     },
     "execution_count": 4,
     "metadata": {},
     "output_type": "execute_result"
    }
   ],
   "source": [
    "df.describe()"
   ]
  },
  {
   "cell_type": "code",
   "execution_count": 5,
   "metadata": {
    "ExecuteTime": {
     "end_time": "2023-12-25T19:57:54.831720600Z",
     "start_time": "2023-12-25T19:57:54.752020700Z"
    }
   },
   "outputs": [
    {
     "name": "stdout",
     "output_type": "stream",
     "text": [
      "<class 'pandas.core.frame.DataFrame'>\n",
      "RangeIndex: 2332531 entries, 0 to 2332530\n",
      "Data columns (total 4 columns):\n",
      " #   Column  Dtype  \n",
      "---  ------  -----  \n",
      " 0   Open    float64\n",
      " 1   High    float64\n",
      " 2   Low     float64\n",
      " 3   Close   float64\n",
      "dtypes: float64(4)\n",
      "memory usage: 71.2 MB\n"
     ]
    }
   ],
   "source": [
    "df.info()"
   ]
  },
  {
   "cell_type": "code",
   "execution_count": 6,
   "metadata": {
    "ExecuteTime": {
     "end_time": "2023-12-25T19:57:54.832722500Z",
     "start_time": "2023-12-25T19:57:54.769567200Z"
    }
   },
   "outputs": [
    {
     "data": {
      "text/plain": [
       "(2332531, 4)"
      ]
     },
     "execution_count": 6,
     "metadata": {},
     "output_type": "execute_result"
    }
   ],
   "source": [
    "df.shape"
   ]
  },
  {
   "cell_type": "code",
   "execution_count": 7,
   "metadata": {
    "ExecuteTime": {
     "end_time": "2023-12-25T19:57:54.949930200Z",
     "start_time": "2023-12-25T19:57:54.785845800Z"
    }
   },
   "outputs": [
    {
     "data": {
      "text/plain": [
       "Open     7608\n",
       "High     7608\n",
       "Low      7608\n",
       "Close    7608\n",
       "dtype: int64"
      ]
     },
     "execution_count": 7,
     "metadata": {},
     "output_type": "execute_result"
    }
   ],
   "source": [
    "df.isna().sum()"
   ]
  },
  {
   "cell_type": "code",
   "execution_count": 8,
   "metadata": {
    "ExecuteTime": {
     "end_time": "2023-12-25T19:57:55.317610900Z",
     "start_time": "2023-12-25T19:57:54.842904700Z"
    }
   },
   "outputs": [
    {
     "data": {
      "text/plain": [
       "Open     0\n",
       "High     0\n",
       "Low      0\n",
       "Close    0\n",
       "dtype: int64"
      ]
     },
     "execution_count": 8,
     "metadata": {},
     "output_type": "execute_result"
    }
   ],
   "source": [
    "df['Open']= df['Open'].fillna(value=df['Open'].median())\n",
    "df['High']=df['High'].fillna(value=df['High'].median())\n",
    "df['Low']=df['Low'].fillna(value=df['Low'].median())\n",
    "df['Close']=df['Close'].fillna(value=df['Close'].median())\n",
    "df.isna().sum()"
   ]
  },
  {
   "cell_type": "markdown",
   "metadata": {},
   "source": [
    "# Data Visualization"
   ]
  },
  {
   "cell_type": "code",
   "execution_count": 19,
   "metadata": {
    "ExecuteTime": {
     "end_time": "2023-12-25T20:09:19.903615700Z",
     "start_time": "2023-12-25T19:57:57.042185600Z"
    }
   },
   "outputs": [
    {
     "data": {
      "image/png": "[encoded data removed]",
      "text/plain": [
       "<Figure size 600x600 with 3 Axes>"
      ]
     },
     "metadata": {},
     "output_type": "display_data"
    }
   ],
   "source": [
    "plt.figure(figsize=(6,6))\n",
    "\n",
    "\n",
    "\n",
    "for index,col in enumerate(df.columns):\n",
    "    if col =='Close':\n",
    "        continue\n",
    "    plt.subplot(3,1,index+1)\n",
    "    plt.tight_layout()\n",
    "    plt.title(f'The regression Plot Between {col} and Close Price')\n",
    "    sns.regplot(data=df,x=col,y='Close')"
   ]
  },
  {
   "cell_type": "code",
   "execution_count": 20,
   "metadata": {
    "ExecuteTime": {
     "end_time": "2023-12-25T20:09:50.069184900Z",
     "start_time": "2023-12-25T20:09:19.912657900Z"
    }
   },
   "outputs": [
    {
     "data": {
      "image/png": "[encoded data removed]",
      "text/plain": [
       "<Figure size 600x600 with 4 Axes>"
      ]
     },
     "metadata": {},
     "output_type": "display_data"
    }
   ],
   "source": [
    "plt.figure(figsize=(6,6))\n",
    "\n",
    "for i, col in enumerate(df.columns):\n",
    "    plt.subplot(2,2,i+1)\n",
    "    plt.title(f\"The Histogram for {col} Price\")\n",
    "    plt.tight_layout()\n",
    "    sns.histplot(data=df,x=col,kde=True)"
   ]
  },
  {
   "cell_type": "code",
   "execution_count": 9,
   "metadata": {
    "ExecuteTime": {
     "end_time": "2023-12-25T20:09:50.099345900Z",
     "start_time": "2023-12-25T20:09:50.061041100Z"
    }
   },
   "outputs": [],
   "source": [
    "x=df.drop(['Close'],axis=1)\n",
    "y=df['Close']"
   ]
  },
  {
   "cell_type": "code",
   "execution_count": 10,
   "metadata": {
    "ExecuteTime": {
     "end_time": "2023-12-25T20:09:50.580831200Z",
     "start_time": "2023-12-25T20:09:50.099345900Z"
    }
   },
   "outputs": [
    {
     "name": "stdout",
     "output_type": "stream",
     "text": [
      "x train shape = (1866024, 3)\n",
      "y train shape= (1866024,)\n",
      "\n",
      "x test shape = (466507, 3)\n",
      "y test shape = (466507,)\n"
     ]
    }
   ],
   "source": [
    "from sklearn.model_selection import train_test_split\n",
    "\n",
    "x_train, x_test ,y_train  ,y_test =train_test_split(x,y,train_size=0.80,random_state= 42)\n",
    "\n",
    "print(f'x train shape = {x_train.shape}')\n",
    "print(f'y train shape= {y_train.shape}')\n",
    "print()\n",
    "print(f'x test shape = {x_test.shape}')\n",
    "print(f'y test shape = {y_test.shape}')"
   ]
  },
  {
   "cell_type": "markdown",
   "metadata": {},
   "source": [
    "# 1- Linear Regression"
   ]
  },
  {
   "cell_type": "code",
   "execution_count": 11,
   "metadata": {
    "ExecuteTime": {
     "end_time": "2023-12-25T20:09:50.895051400Z",
     "start_time": "2023-12-25T20:09:50.586870300Z"
    }
   },
   "outputs": [],
   "source": [
    "from sklearn.linear_model import LinearRegression\n",
    "from sklearn.metrics import mean_squared_error\n",
    "from sklearn.metrics import r2_score\n",
    "\n",
    "linear_model = LinearRegression()\n",
    "\n",
    "linear_model.fit(x_train,y_train)\n",
    "y_linear_pred=linear_model.predict(x_train)\n",
    "\n",
    "linear_train_mse = mean_squared_error(y_train,y_linear_pred)\n",
    "r2_linear_train = r2_score(y_train,y_linear_pred)\n",
    "\n",
    "y_linear_test_pred = linear_model.predict(x_test)\n",
    "linear_test_mse = mean_squared_error(y_test,y_linear_test_pred)\n",
    "r2_linear_test = r2_score(y_test,y_linear_test_pred)\n",
    "\n"
   ]
  },
  {
   "cell_type": "markdown",
   "metadata": {},
   "source": [
    "# 2- Xgboost"
   ]
  },
  {
   "cell_type": "code",
   "execution_count": 12,
   "metadata": {
    "ExecuteTime": {
     "end_time": "2023-12-25T20:09:51.377300600Z",
     "start_time": "2023-12-25T20:09:50.884090600Z"
    }
   },
   "outputs": [],
   "source": [
    "from xgboost import XGBRegressor\n",
    "\n",
    "XGB_model= XGBRegressor()\n",
    "\n",
    "XGB_model.fit(x_train,y_train)\n",
    "\n",
    "XGB_train_pred = XGB_model.predict(x_train)\n",
    "XGB_train_mse = mean_squared_error(y_train,XGB_train_pred)\n",
    "r2_xgb_train = r2_score(y_train,XGB_train_pred)\n",
    "\n",
    "XGB_test_pred = XGB_model.predict(x_test)\n",
    "XGB_test_mse = mean_squared_error(y_test,XGB_test_pred)\n",
    "r2_xgb_test = r2_score(y_test,XGB_test_pred)\n"
   ]
  },
  {
   "cell_type": "markdown",
   "metadata": {},
   "source": [
    "# 3- Neural Networks"
   ]
  },
  {
   "cell_type": "code",
   "execution_count": 13,
   "metadata": {
    "ExecuteTime": {
     "end_time": "2023-12-25T20:09:51.384313200Z",
     "start_time": "2023-12-25T20:09:51.382348Z"
    }
   },
   "outputs": [
    {
     "name": "stdout",
     "output_type": "stream",
     "text": [
      "WARNING:tensorflow:From C:\\Users\\HP\\AppData\\Roaming\\Python\\Python310\\site-packages\\keras\\src\\losses.py:2976: The name tf.losses.sparse_softmax_cross_entropy is deprecated. Please use tf.compat.v1.losses.sparse_softmax_cross_entropy instead.\n",
      "\n",
      "WARNING:tensorflow:From C:\\Users\\HP\\AppData\\Roaming\\Python\\Python310\\site-packages\\keras\\src\\backend.py:873: The name tf.get_default_graph is deprecated. Please use tf.compat.v1.get_default_graph instead.\n",
      "\n",
      "WARNING:tensorflow:From C:\\Users\\HP\\AppData\\Roaming\\Python\\Python310\\site-packages\\keras\\src\\utils\\tf_utils.py:492: The name tf.ragged.RaggedTensorValue is deprecated. Please use tf.compat.v1.ragged.RaggedTensorValue instead.\n",
      "\n",
      "58314/58314 [==============================] - 167s 3ms/step - loss: 7805.0947\n",
      "58314/58314 [==============================] - 70s 1ms/step\n",
      "14579/14579 [==============================] - 19s 1ms/step\n"
     ]
    }
   ],
   "source": [
    "import tensorflow as tf\n",
    "from tensorflow.keras import Sequential\n",
    "from tensorflow.keras.layers import Dense \n",
    "\n",
    "nn_model =Sequential([\n",
    "    Dense(units =15 ,activation ='relu',),\n",
    "    Dense(units =8 ,activation ='relu'),\n",
    "    Dense(units =8 ,activation ='relu'),\n",
    "    Dense(units =1 ,activation ='linear')\n",
    "])\n",
    "\n",
    "nn_model.compile(optimizer=tf.keras.optimizers.Adam(learning_rate = 1e-3), loss='mean_squared_error')\n",
    "\n",
    "nn_model.fit(x_train,y_train)\n",
    "\n",
    "nn_train_pred = nn_model.predict(x_train)\n",
    "nn_train_mse = mean_squared_error(y_train,nn_train_pred)\n",
    "r2_train_nn = r2_score(y_train,nn_train_pred)\n",
    " \n",
    "nn_test_pred = nn_model.predict(x_test)\n",
    "nn_test_mse = mean_squared_error(y_test,nn_test_pred)\n",
    "r2_test_nn = r2_score(y_test,nn_test_pred)\n"
   ]
  },
  {
   "cell_type": "code",
   "execution_count": 14,
   "metadata": {
    "ExecuteTime": {
     "start_time": "2023-12-25T20:09:51.384313200Z"
    }
   },
   "outputs": [],
   "source": [
    "\n",
    "models_mse=pd.DataFrame({'Linear Regression' : [linear_train_mse,linear_test_mse],'XGBoost':[XGB_train_mse,XGB_test_mse],'Neural Networks':[nn_train_mse,nn_test_mse]})\n",
    "models_mse.index=['Train','Test']\n",
    "models_r2_score = pd.DataFrame({'Linear Regression' : [r2_linear_train,r2_linear_test],'XGBoost':[r2_xgb_train,r2_xgb_test],'Neural Networks':[r2_train_nn,r2_test_nn]})\n",
    "models_r2_score.index=['Train','Test']"
   ]
  },
  {
   "cell_type": "code",
   "execution_count": 15,
   "metadata": {
    "ExecuteTime": {
     "end_time": "2023-12-25T20:09:51.390823300Z",
     "start_time": "2023-12-25T20:09:51.384313200Z"
    }
   },
   "outputs": [
    {
     "name": "stdout",
     "output_type": "stream",
     "text": [
      "Mean Squared Error for each model:\n"
     ]
    },
    {
     "data": {
      "text/html": [
       "<div>\n",
       "<style scoped>\n",
       "    .dataframe tbody tr th:only-of-type {\n",
       "        vertical-align: middle;\n",
       "    }\n",
       "\n",
       "    .dataframe tbody tr th {\n",
       "        vertical-align: top;\n",
       "    }\n",
       "\n",
       "    .dataframe thead th {\n",
       "        text-align: right;\n",
       "    }\n",
       "</style>\n",
       "<table border=\"1\" class=\"dataframe\">\n",
       "  <thead>\n",
       "    <tr style=\"text-align: right;\">\n",
       "      <th></th>\n",
       "      <th>Linear Regression</th>\n",
       "      <th>XGBoost</th>\n",
       "      <th>Neural Networks</th>\n",
       "    </tr>\n",
       "  </thead>\n",
       "  <tbody>\n",
       "    <tr>\n",
       "      <th>Train</th>\n",
       "      <td>1229.885661</td>\n",
       "      <td>929406.132017</td>\n",
       "      <td>1478.739029</td>\n",
       "    </tr>\n",
       "    <tr>\n",
       "      <th>Test</th>\n",
       "      <td>1214.467718</td>\n",
       "      <td>909201.160729</td>\n",
       "      <td>1467.524306</td>\n",
       "    </tr>\n",
       "  </tbody>\n",
       "</table>\n",
       "</div>"
      ],
      "text/plain": [
       "       Linear Regression        XGBoost  Neural Networks\n",
       "Train        1229.885661  929406.132017      1478.739029\n",
       "Test         1214.467718  909201.160729      1467.524306"
      ]
     },
     "execution_count": 15,
     "metadata": {},
     "output_type": "execute_result"
    }
   ],
   "source": [
    "print(\"Mean Squared Error for each model:\")\n",
    "models_mse"
   ]
  },
  {
   "cell_type": "code",
   "execution_count": 16,
   "metadata": {
    "ExecuteTime": {
     "start_time": "2023-12-25T20:09:51.384313200Z"
    }
   },
   "outputs": [
    {
     "name": "stdout",
     "output_type": "stream",
     "text": [
      "R2 score for each model:\n"
     ]
    },
    {
     "data": {
      "text/html": [
       "<div>\n",
       "<style scoped>\n",
       "    .dataframe tbody tr th:only-of-type {\n",
       "        vertical-align: middle;\n",
       "    }\n",
       "\n",
       "    .dataframe tbody tr th {\n",
       "        vertical-align: top;\n",
       "    }\n",
       "\n",
       "    .dataframe thead th {\n",
       "        text-align: right;\n",
       "    }\n",
       "</style>\n",
       "<table border=\"1\" class=\"dataframe\">\n",
       "  <thead>\n",
       "    <tr style=\"text-align: right;\">\n",
       "      <th></th>\n",
       "      <th>Linear Regression</th>\n",
       "      <th>XGBoost</th>\n",
       "      <th>Neural Networks</th>\n",
       "    </tr>\n",
       "  </thead>\n",
       "  <tbody>\n",
       "    <tr>\n",
       "      <th>Train</th>\n",
       "      <td>99.990377</td>\n",
       "      <td>92.727809</td>\n",
       "      <td>99.988430</td>\n",
       "    </tr>\n",
       "    <tr>\n",
       "      <th>Test</th>\n",
       "      <td>99.990391</td>\n",
       "      <td>92.806014</td>\n",
       "      <td>99.988388</td>\n",
       "    </tr>\n",
       "  </tbody>\n",
       "</table>\n",
       "</div>"
      ],
      "text/plain": [
       "       Linear Regression    XGBoost  Neural Networks\n",
       "Train          99.990377  92.727809        99.988430\n",
       "Test           99.990391  92.806014        99.988388"
      ]
     },
     "execution_count": 16,
     "metadata": {},
     "output_type": "execute_result"
    }
   ],
   "source": [
    "print(\"R2 score for each model:\")\n",
    "models_r2_score*100"
   ]
  },
  {
   "cell_type": "markdown",
   "metadata": {},
   "source": [
    "> Thats mean that the best model is the linear regression with 99.99% accuracy train data and 99.99% test data"
   ]
  },
  {
   "cell_type": "code",
   "execution_count": 18,
   "metadata": {
    "ExecuteTime": {
     "start_time": "2023-12-25T20:09:51.390823300Z"
    }
   },
   "outputs": [
    {
     "data": {
      "text/plain": [
       "['linear_model.pkl']"
      ]
     },
     "execution_count": 18,
     "metadata": {},
     "output_type": "execute_result"
    }
   ],
   "source": [
    "# To save linear regression model\n",
    "from joblib import dump\n",
    "dump(linear_model,'linear_model.pkl')"
   ]
  }
 ],
 "metadata": {
  "kernelspec": {
   "display_name": "Python 3",
   "language": "python",
   "name": "python3"
  },
  "language_info": {
   "codemirror_mode": {
    "name": "ipython",
    "version": 3
   },
   "file_extension": ".py",
   "mimetype": "text/x-python",
   "name": "python",
   "nbconvert_exporter": "python",
   "pygments_lexer": "ipython3",
   "version": "3.10.0"
  }
 },
 "nbformat": 4,
 "nbformat_minor": 2
}
